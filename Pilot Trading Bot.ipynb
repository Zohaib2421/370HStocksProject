{
 "cells": [
  {
   "cell_type": "code",
   "execution_count": 1,
   "metadata": {},
   "outputs": [],
   "source": [
    "import yfinance as yf\n",
    "import pandas as pd"
   ]
  },
  {
   "cell_type": "code",
   "execution_count": 2,
   "metadata": {},
   "outputs": [
    {
     "name": "stderr",
     "output_type": "stream",
     "text": [
      "[*********************100%***********************]  1 of 1 completed"
     ]
    },
    {
     "name": "stdout",
     "output_type": "stream",
     "text": [
      "Price       Close   High     Low   Open   Volume Daily Return\n",
      "Ticker       DKNG   DKNG    DKNG   DKNG     DKNG             \n",
      "Date                                                         \n",
      "2020-01-03  10.68  10.75  10.610  10.66   467600     0.000000\n",
      "2020-01-06  10.80  10.90  10.692  10.75  2183500     0.011236\n",
      "2020-01-07  10.90  10.95  10.870  10.89  1977000     0.009259\n",
      "2020-01-08  11.26  11.35  10.884  10.94  2955700     0.033028\n",
      "2020-01-09  12.25  12.39  11.340  11.43  8279300     0.087922\n"
     ]
    },
    {
     "name": "stderr",
     "output_type": "stream",
     "text": [
      "\n"
     ]
    }
   ],
   "source": [
    "stock_data = yf.download(\"DKNG\", start=\"2020-01-01\", end=\"2024-01-01\")\n",
    "\n",
    "# Save relevant features: Close price, Volume, Daily Returns\n",
    "stock_data['Daily Return'] = stock_data['Close'].pct_change()\n",
    "stock_data.dropna(inplace=True)\n",
    "\n",
    "# Save the data for later use\n",
    "stock_data.to_csv(\"draftkings_data.csv\")\n",
    "\n",
    "print(stock_data.head())"
   ]
  }
 ],
 "metadata": {
  "kernelspec": {
   "display_name": "Python 3",
   "language": "python",
   "name": "python3"
  },
  "language_info": {
   "codemirror_mode": {
    "name": "ipython",
    "version": 3
   },
   "file_extension": ".py",
   "mimetype": "text/x-python",
   "name": "python",
   "nbconvert_exporter": "python",
   "pygments_lexer": "ipython3",
   "version": "3.12.8"
  }
 },
 "nbformat": 4,
 "nbformat_minor": 2
}
